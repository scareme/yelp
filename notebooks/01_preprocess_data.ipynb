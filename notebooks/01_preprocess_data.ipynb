{
 "cells": [
  {
   "cell_type": "code",
   "execution_count": 1,
   "metadata": {},
   "outputs": [],
   "source": [
    "import re\n",
    "import json\n",
    "import string\n",
    "from pathlib import Path\n",
    "\n",
    "from tqdm import tqdm\n",
    "import torch\n",
    "import torch.nn as nn\n",
    "import torch.nn.functional as F\n",
    "from torchtext.data import Field, BucketIterator, TabularDataset\n",
    "from IPython.display import clear_output\n",
    "import matplotlib.pyplot as plt"
   ]
  },
  {
   "cell_type": "code",
   "execution_count": 2,
   "metadata": {},
   "outputs": [],
   "source": [
    "YELP_DIR = Path(\"data/yelp_dataset/\")\n",
    "DATA = Path(\"data\")\n",
    "REVIEWS_FOLDER = Path(\"data\")/\"reviews\"\n",
    "\n",
    "BUSINESS_FILE = \"yelp_academic_dataset_business.json\"\n",
    "REVIEWS_FILE = \"yelp_academic_dataset_review.json\"\n",
    "RESTAURANT = \"restaurant\"\n",
    "\n",
    "RE_WHITESPACE = r\"|\".join([el+\"+\" for el in list(string.whitespace[1:])])"
   ]
  },
  {
   "cell_type": "code",
   "execution_count": 3,
   "metadata": {},
   "outputs": [],
   "source": [
    "def get_total_rows(input_file):\n",
    "    total_rows = sum(1 for line in input_file)\n",
    "    input_file.seek(0)\n",
    "    return total_rows"
   ]
  },
  {
   "cell_type": "code",
   "execution_count": 4,
   "metadata": {},
   "outputs": [],
   "source": [
    "def get_business_id_by_label(path, label):\n",
    "    business_ids = set()\n",
    "    with open(path, \"r\") as jfile:\n",
    "        total_rows = get_total_rows(jfile)\n",
    "\n",
    "        for business in tqdm(jfile, total=total_rows):\n",
    "#         for business in jfile:\n",
    "            try:\n",
    "                business = json.loads(business)\n",
    "            except json.JSONDecodeError as ex:\n",
    "                print(\"JSONDecodeError\", ex)\n",
    "                continue\n",
    "\n",
    "            categories = business.get(\"categories\", \"\")\n",
    "            business_id = business.get(\"business_id\")\n",
    "            if categories and business_id and (label in categories.lower()):\n",
    "                business_ids.add(business_id)\n",
    "    \n",
    "    return business_ids"
   ]
  },
  {
   "cell_type": "code",
   "execution_count": 5,
   "metadata": {},
   "outputs": [],
   "source": [
    "def write_reviews_by_business_id(review_path, output_folder, business_ids):\n",
    "    printable_set = set(string.printable)\n",
    "    \n",
    "    with open(review_path, \"r\") as review_file,\\\n",
    "         open(output_folder/\"bad_review.json\", \"w\") as bad_review,\\\n",
    "         open(output_folder/\"good_review.json\", \"w\") as good_review:\n",
    "\n",
    "        total_rows = get_total_rows(review_file)\n",
    "\n",
    "        for review in tqdm(review_file, total=total_rows):\n",
    "            try:\n",
    "                review = json.loads(review)\n",
    "            except json.JSONDecodeError as ex:\n",
    "                print(\"JSONDecodeError\", ex)\n",
    "                continue\n",
    "            \n",
    "            review_id = review.get(\"review_id\")\n",
    "            business_id = review.get(\"business_id\")\n",
    "            business_id_is_valid = business_id and (business_id in business_ids)\n",
    "            stars = review.get(\"stars\")\n",
    "            stars_is_valid = stars and stars.is_integer()\n",
    "            text = review.get(\"text\")\n",
    "\n",
    "            if business_id_is_valid and stars_is_valid and text and review_id:\n",
    "                stars = int(stars)\n",
    "                if stars == 5 and set(text).issubset(printable_set):\n",
    "                    text = re.sub(r\" +\", \" \", re.sub(RE_WHITESPACE, \" \", text))\n",
    "                    if len(text) <= 250:\n",
    "                        good_review.write(json.dumps({\"review_id\": review_id, \"text\": text}))\n",
    "                        good_review.write(\"\\n\")\n",
    "                if stars in {1, 2} and set(text).issubset(printable_set):\n",
    "                    text = re.sub(r\" +\", \" \", re.sub(RE_WHITESPACE, \" \", text))\n",
    "                    if len(text) <= 250:\n",
    "                        bad_review.write(json.dumps({\"review_id\": review_id, \"text\": text}))\n",
    "                        bad_review.write(\"\\n\")"
   ]
  },
  {
   "cell_type": "markdown",
   "metadata": {},
   "source": [
    "_________"
   ]
  },
  {
   "cell_type": "code",
   "execution_count": 7,
   "metadata": {},
   "outputs": [
    {
     "ename": "FileNotFoundError",
     "evalue": "[Errno 2] No such file or directory: 'data/yelp_dataset/yelp_academic_dataset_business.json'",
     "output_type": "error",
     "traceback": [
      "\u001b[0;31m---------------------------------------------------------------------------\u001b[0m",
      "\u001b[0;31mFileNotFoundError\u001b[0m                         Traceback (most recent call last)",
      "\u001b[0;32m/tmp/ipykernel_52732/1890166938.py\u001b[0m in \u001b[0;36m<module>\u001b[0;34m\u001b[0m\n\u001b[0;32m----> 1\u001b[0;31m \u001b[0mbusiness_ids\u001b[0m \u001b[0;34m=\u001b[0m \u001b[0mget_business_id_by_label\u001b[0m\u001b[0;34m(\u001b[0m\u001b[0mYELP_DIR\u001b[0m\u001b[0;34m/\u001b[0m\u001b[0mBUSINESS_FILE\u001b[0m\u001b[0;34m,\u001b[0m \u001b[0mRESTAURANT\u001b[0m\u001b[0;34m)\u001b[0m\u001b[0;34m\u001b[0m\u001b[0;34m\u001b[0m\u001b[0m\n\u001b[0m",
      "\u001b[0;32m/tmp/ipykernel_52732/1536959321.py\u001b[0m in \u001b[0;36mget_business_id_by_label\u001b[0;34m(path, label)\u001b[0m\n\u001b[1;32m      1\u001b[0m \u001b[0;32mdef\u001b[0m \u001b[0mget_business_id_by_label\u001b[0m\u001b[0;34m(\u001b[0m\u001b[0mpath\u001b[0m\u001b[0;34m,\u001b[0m \u001b[0mlabel\u001b[0m\u001b[0;34m)\u001b[0m\u001b[0;34m:\u001b[0m\u001b[0;34m\u001b[0m\u001b[0;34m\u001b[0m\u001b[0m\n\u001b[1;32m      2\u001b[0m     \u001b[0mbusiness_ids\u001b[0m \u001b[0;34m=\u001b[0m \u001b[0mset\u001b[0m\u001b[0;34m(\u001b[0m\u001b[0;34m)\u001b[0m\u001b[0;34m\u001b[0m\u001b[0;34m\u001b[0m\u001b[0m\n\u001b[0;32m----> 3\u001b[0;31m     \u001b[0;32mwith\u001b[0m \u001b[0mopen\u001b[0m\u001b[0;34m(\u001b[0m\u001b[0mpath\u001b[0m\u001b[0;34m,\u001b[0m \u001b[0;34m\"r\"\u001b[0m\u001b[0;34m)\u001b[0m \u001b[0;32mas\u001b[0m \u001b[0mjfile\u001b[0m\u001b[0;34m:\u001b[0m\u001b[0;34m\u001b[0m\u001b[0;34m\u001b[0m\u001b[0m\n\u001b[0m\u001b[1;32m      4\u001b[0m         \u001b[0mtotal_rows\u001b[0m \u001b[0;34m=\u001b[0m \u001b[0mget_total_rows\u001b[0m\u001b[0;34m(\u001b[0m\u001b[0mjfile\u001b[0m\u001b[0;34m)\u001b[0m\u001b[0;34m\u001b[0m\u001b[0;34m\u001b[0m\u001b[0m\n\u001b[1;32m      5\u001b[0m \u001b[0;34m\u001b[0m\u001b[0m\n",
      "\u001b[0;31mFileNotFoundError\u001b[0m: [Errno 2] No such file or directory: 'data/yelp_dataset/yelp_academic_dataset_business.json'"
     ]
    }
   ],
   "source": [
    "business_ids = get_business_id_by_label(YELP_DIR/BUSINESS_FILE, RESTAURANT)"
   ]
  },
  {
   "cell_type": "code",
   "execution_count": 8,
   "metadata": {},
   "outputs": [
    {
     "name": "stderr",
     "output_type": "stream",
     "text": [
      "100%|██████████| 6990280/6990280 [04:23<00:00, 26495.97it/s]\n"
     ]
    }
   ],
   "source": [
    "write_reviews_by_business_id(YELP_DIR/REVIEWS_FILE, REVIEWS_FOLDER, business_ids)"
   ]
  },
  {
   "cell_type": "code",
   "execution_count": 9,
   "metadata": {},
   "outputs": [
    {
     "name": "stdout",
     "output_type": "stream",
     "text": [
      "{\"review_id\": \"cCs7yPSyk8NdA-Ufoz_7hw\", \"text\": \"The service here has gone down. We used to go here a lot but now we go to another one. The service was slow and forgotten about.\"}\n",
      "\n",
      "{\"review_id\": \"22n_UbOS_iqKKR3IrYhNGw\", \"text\": \"I went here when if first opened, and have never desired to go back again, I was so very disappointed at the quality and the taste of the food. I would absolutely not recommend dining here.\"}\n",
      "\n",
      "{\"review_id\": \"ULzbgT5SPThiMOoo4a_Adw\", \"text\": \"Ordered Caramel frappe at Drive thru, BIG MISTAKE! Took 30 min and there were only 2 cars in front of me.\"}\n",
      "\n",
      "{\"review_id\": \"y1CYqccQLsn8GGXYS4q6tQ\", \"text\": \"They served me a frozen pizza and skunked beer. 'Nuff said.\"}\n",
      "\n",
      "{\"review_id\": \"lAjAKzVgkUHcq1aLHzDBDA\", \"text\": \"I can walk here and won't go back even if they were the only place open at 2am. I got the basic general tso's and it didn't come close to passing the test. Go to East Cuisine.\"}\n",
      "\n"
     ]
    }
   ],
   "source": [
    "with open(REVIEWS_FOLDER/\"bad_review.json\", \"r\") as input_file:\n",
    "    for line, _ in zip(input_file, range(5)):\n",
    "        print(line)"
   ]
  },
  {
   "cell_type": "code",
   "execution_count": 10,
   "metadata": {},
   "outputs": [
    {
     "name": "stdout",
     "output_type": "stream",
     "text": [
      "{\"review_id\": \"AqPFMleE6RsU23_auESxiA\", \"text\": \"Wow! Yummy, different, delicious. Our favorite is the lamb curry and korma. With 10 different kinds of naan!!! Don't let the outside deter you (because we almost changed our minds)...go in and try something new! You'll be glad you did!\"}\n",
      "\n",
      "{\"review_id\": \"_ZeMknuYdlQcUqng_Im3yg\", \"text\": \"Amazingly amazing wings and homemade bleu cheese. Had the ribeye: tender, perfectly prepared, delicious. Nice selection of craft beers. Would DEFINITELY recommend checking out this hidden gem.\"}\n",
      "\n",
      "{\"review_id\": \"OAhBYw8IQ6wlfw1owXWRWw\", \"text\": \"Great place for breakfast! I had the waffle, which was fluffy and perfect, and home fries which were nice and smashed and crunchy. Friendly waitstaff. Will definitely be back!\"}\n",
      "\n",
      "{\"review_id\": \"G_5UczbCBJriUAbxz3J7Tw\", \"text\": \"Best thai food in the area. Everything was authentic and delicious. Will definitely be back again and again.\"}\n",
      "\n",
      "{\"review_id\": \"-P5E9BYUaK7s3PwBF5oAyg\", \"text\": \"First time there and it was excellent!!! It feels like your are entering someone's home. The waiters there funny and nice. The food come out very quickly and it is phenomenal!!! Definitely will be going back to this place.\"}\n",
      "\n"
     ]
    }
   ],
   "source": [
    "with open(REVIEWS_FOLDER/\"good_review.json\", \"r\") as input_file:\n",
    "    for line, _ in zip(input_file, range(5)):\n",
    "        print(line)"
   ]
  }
 ],
 "metadata": {
  "kernelspec": {
   "display_name": "Python 3 (ipykernel)",
   "language": "python",
   "name": "python3"
  },
  "language_info": {
   "codemirror_mode": {
    "name": "ipython",
    "version": 3
   },
   "file_extension": ".py",
   "mimetype": "text/x-python",
   "name": "python",
   "nbconvert_exporter": "python",
   "pygments_lexer": "ipython3",
   "version": "3.8.11"
  }
 },
 "nbformat": 4,
 "nbformat_minor": 2
}
